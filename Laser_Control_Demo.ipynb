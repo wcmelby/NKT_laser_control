{
 "cells": [
  {
   "cell_type": "markdown",
   "metadata": {},
   "source": [
    "Testing SuperK SELECT control via Python. We are using NKT Photonics SuperK Compact laser with SELECT tunable filter. Laser is on COM3."
   ]
  },
  {
   "cell_type": "markdown",
   "metadata": {},
   "source": [
    "On Rayleigh, SDK documents can be found under Users/Public/Public Documents/NKT Photonics\n",
    "\n",
    "SuperK Compact info is on page 59 of the user manual."
   ]
  },
  {
   "cell_type": "markdown",
   "metadata": {},
   "source": [
    "Python interface doesn't work while Control software is connected."
   ]
  },
  {
   "cell_type": "code",
   "execution_count": 1,
   "metadata": {},
   "outputs": [],
   "source": [
    "# testing"
   ]
  },
  {
   "cell_type": "code",
   "execution_count": 6,
   "metadata": {},
   "outputs": [],
   "source": [
    "from controls import *"
   ]
  },
  {
   "cell_type": "code",
   "execution_count": 7,
   "metadata": {},
   "outputs": [
    {
     "name": "stdout",
     "output_type": "stream",
     "text": [
      "Following ports has modules: COM3\n",
      "Comport: COM3 Device type: 0x0074 at address: 1\n",
      "Comport: COM3 Device type: 0x0067 at address: 16\n",
      "Comport: COM3 Device type: 0x0066 at address: 17\n",
      "Close result:  0:OPSuccess\n"
     ]
    }
   ],
   "source": [
    "scan_ports()"
   ]
  },
  {
   "cell_type": "code",
   "execution_count": 8,
   "metadata": {},
   "outputs": [
    {
     "name": "stdout",
     "output_type": "stream",
     "text": [
      "Waiting for interlock to reset.\n"
     ]
    }
   ],
   "source": [
    "get_interlock()"
   ]
  },
  {
   "cell_type": "code",
   "execution_count": 9,
   "metadata": {},
   "outputs": [
    {
     "name": "stdout",
     "output_type": "stream",
     "text": [
      "Interlock is OK.\n"
     ]
    }
   ],
   "source": [
    "reset_interlock()"
   ]
  },
  {
   "cell_type": "code",
   "execution_count": 13,
   "metadata": {},
   "outputs": [
    {
     "name": "stdout",
     "output_type": "stream",
     "text": [
      "Laser mode: Internal frequency generator\n"
     ]
    }
   ],
   "source": [
    "trig_mode()"
   ]
  },
  {
   "cell_type": "code",
   "execution_count": 10,
   "metadata": {},
   "outputs": [
    {
     "name": "stdout",
     "output_type": "stream",
     "text": [
      "Setting emission ON. 0:RegResultSuccess\n"
     ]
    }
   ],
   "source": [
    "emission_on()"
   ]
  },
  {
   "cell_type": "code",
   "execution_count": 12,
   "metadata": {},
   "outputs": [
    {
     "name": "stdout",
     "output_type": "stream",
     "text": [
      "Setting overall power level to 20%.\n"
     ]
    }
   ],
   "source": [
    "overall_power(20)"
   ]
  },
  {
   "cell_type": "code",
   "execution_count": 14,
   "metadata": {},
   "outputs": [
    {
     "name": "stdout",
     "output_type": "stream",
     "text": [
      "Setting emission OFF. 0:RegResultSuccess\n"
     ]
    }
   ],
   "source": [
    "emission_off()"
   ]
  },
  {
   "cell_type": "code",
   "execution_count": null,
   "metadata": {},
   "outputs": [
    {
     "name": "stdout",
     "output_type": "stream",
     "text": [
      "(0, 4095)\n",
      "Unknown result\n"
     ]
    }
   ],
   "source": [
    "# Monitor 1 readout, not working?\n",
    "result = registerReadU16('COM3', 16, 0x10, -1)\n",
    "print(result)\n",
    "print(RegisterResultTypes(result))"
   ]
  },
  {
   "cell_type": "code",
   "execution_count": 21,
   "metadata": {},
   "outputs": [
    {
     "name": "stdout",
     "output_type": "stream",
     "text": [
      "Display backlight level:  70 %\n"
     ]
    }
   ],
   "source": [
    "COMport = 'COM3' # depends on the port the device is connected to. COM3 for Rayleigh desktop\n",
    "COMPACT_devID = 1 # fixed for the SuperK COMPACT\n",
    "SELECT_devID = 16 # fixed for the SuperK SELECT\n",
    "\n",
    "def display_backlight(brightness=None):\n",
    "    if brightness is None:\n",
    "        result = registerReadU32(COMport, COMPACT_devID, 0x26, -1)\n",
    "        backlight_level = result[1]\n",
    "        print('Display backlight level: ', backlight_level, '%')\n",
    "    else:\n",
    "        result = registerWriteReadU32(COMport, COMPACT_devID, 0x26, brightness, -1)\n",
    "        backlight_level = result[1]\n",
    "        print(f'Display backlight level set to {backlight_level}%.')        \n",
    "\n",
    "display_backlight()"
   ]
  },
  {
   "cell_type": "code",
   "execution_count": null,
   "metadata": {},
   "outputs": [
    {
     "name": "stdout",
     "output_type": "stream",
     "text": [
      "(0, 350)\n",
      "Unknown result\n"
     ]
    }
   ],
   "source": [
    "# Monitor 2 readout, not working?\n",
    "result = registerReadU16('COM3', 17, 0x11, -1)\n",
    "print(result)\n",
    "print(RegisterResultTypes(result))"
   ]
  },
  {
   "cell_type": "code",
   "execution_count": 70,
   "metadata": {},
   "outputs": [
    {
     "name": "stdout",
     "output_type": "stream",
     "text": [
      "(0, 500000)\n",
      "Unknown result\n"
     ]
    }
   ],
   "source": [
    "# crystal 1 minimum wavelength, value in pm\n",
    "result = registerReadU32('COM3', 16, 0x90, -1)\n",
    "print(result)\n",
    "print(RegisterResultTypes(result))"
   ]
  },
  {
   "cell_type": "code",
   "execution_count": null,
   "metadata": {},
   "outputs": [],
   "source": [
    "def interlock_status():\n",
    "    if value==0:\n",
    "        print('Interlock off')\n",
    "    if value"
   ]
  },
  {
   "cell_type": "code",
   "execution_count": null,
   "metadata": {},
   "outputs": [],
   "source": [
    "status_mapping = {\n",
    "    0: \"Device is off.\",\n",
    "    1: \"Device is on.\",\n",
    "    2: \"Device is broken.\"\n",
    "}\n",
    "\n",
    "# Function to check the status based on the mapping\n",
    "def check_device_status(value):\n",
    "    # Use the get method to provide a default message for unknown values\n",
    "    message = status_mapping.get(value, \"Unknown status.\")\n",
    "    print(message)\n",
    "\n",
    "# Example usage\n",
    "status_value = int(input(\"Enter the device status (0: off, 1: on, 2: broken): \"))\n",
    "check_device_status(status_value)"
   ]
  },
  {
   "cell_type": "code",
   "execution_count": null,
   "metadata": {},
   "outputs": [],
   "source": [
    "interlock_mapping = {\n",
    "    0: \"Interlock off (interlock circuit open).\",\n",
    "    1: \"Waiting for interlock reset.\",\n",
    "    3: \"Interlock is OK.\"\n",
    "}\n",
    "\n",
    "def interlock_status(value):\n",
    "    message = interlock_mapping.get(value, \"Unknown interlock status.\")\n",
    "    print(message)"
   ]
  },
  {
   "cell_type": "markdown",
   "metadata": {},
   "source": [
    " 0 Interlock off (interlock circuit open)\n",
    "0 1 Waiting for interlock reset\n",
    "0 2 Interlock is OK\n",
    "1 0 Front panel interlock / key switch off\n",
    "2 0 Door switch open\n",
    "3 0 External module interlock\n",
    "4 0 Interlock power failure\n",
    "255 - Interlock circuit failure"
   ]
  },
  {
   "cell_type": "markdown",
   "metadata": {},
   "source": [
    "\"All wavelength and amplitude settings are sent to the RF Driver, not to the SuperK SELECT\"\n",
    "First channel is controlled with 0x90, second with 0x91, and so on up to 0x97 for the eighth channel. \n",
    "Only use the element on index 0. Can send only one 32 bit integer to change this value. "
   ]
  },
  {
   "cell_type": "code",
   "execution_count": null,
   "metadata": {},
   "outputs": [],
   "source": [
    "COMport = 'COM3' # depends on the port the device is connected to\n",
    "COMPACT_devID = 1 # fixed for the SuperK COMPACT\n",
    "SELECT_devID = 16 # fixed for the SuperK SELECT\n",
    "\n",
    "def crystal_temp():\n",
    "    \"\"\"Read the current crystal temperature in degrees Celsius.\"\"\"\n",
    "    result = registerReadS16(COMport, SELECT_devID, 0x38, -1)\n",
    "    temperature = result[1] # temperature given in 0.1 degrees C\n",
    "    print('Crystal temperature: ', temperature/10, 'degrees C.', RegisterResultTypes(result))"
   ]
  },
  {
   "cell_type": "code",
   "execution_count": null,
   "metadata": {},
   "outputs": [],
   "source": [
    "def set_wavelength(channel, wavelength):\n",
    "    \"\"\"Specify the channel (1-8) and set the wavelength in nm for that channel.\"\"\"\n",
    "    channel = int(channel-1)\n",
    "    address = f\"0x9{channel}\"\n",
    "    result = registerWriteReadU32(COMport, SELECT_devID, address, wavelength*1000, -1)\n",
    "    print('Wavelength set to: ', wavelength/1000, 'nm.', RegisterResultTypes(result))"
   ]
  },
  {
   "cell_type": "code",
   "execution_count": 1,
   "metadata": {},
   "outputs": [],
   "source": [
    "# testing"
   ]
  }
 ],
 "metadata": {
  "kernelspec": {
   "display_name": "First_Light_SDK",
   "language": "python",
   "name": "python3"
  },
  "language_info": {
   "codemirror_mode": {
    "name": "ipython",
    "version": 3
   },
   "file_extension": ".py",
   "mimetype": "text/x-python",
   "name": "python",
   "nbconvert_exporter": "python",
   "pygments_lexer": "ipython3",
   "version": "3.10.11"
  }
 },
 "nbformat": 4,
 "nbformat_minor": 2
}
